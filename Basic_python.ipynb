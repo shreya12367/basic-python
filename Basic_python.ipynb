{
  "nbformat": 4,
  "nbformat_minor": 0,
  "metadata": {
    "colab": {
      "provenance": []
    },
    "kernelspec": {
      "name": "python3",
      "display_name": "Python 3"
    },
    "language_info": {
      "name": "python"
    }
  },
  "cells": [
    {
      "cell_type": "code",
      "execution_count": null,
      "metadata": {
        "id": "uQ5LIBIt3yZM"
      },
      "outputs": [],
      "source": []
    },
    {
      "cell_type": "markdown",
      "source": [
        "1) What is python\n",
        "ans- Python is a high-level, interpreted programming language known for its readability and simplicity\n",
        "\n",
        "2)An interpreter reads and executes Python code line-by-line.\n",
        "It converts the code into machine-readable instructions at runtime, allowing dynamic execution and immediate feedback.\n",
        "\n",
        "\n",
        "3) What are pre-defined keywords in Python?\n",
        "\n",
        "Keywords are special words that Python already understands.\n",
        "Examples: `if`, `while`, `for`, `True`, `None`\n",
        "\n",
        "\n",
        "4)Can keywords be used as variable names?\n",
        "\n",
        "No, we can’t name keywords as variable.\n",
        "\n",
        "\n",
        "5)What is mutability in Python?\n",
        "\n",
        "Mutability means data that can be changed after storing the values\n",
        "\n",
        "* Lists are mutable.\n",
        "* Tuples are immutable\n",
        "\n",
        "6) Why are lists mutable, but tuples are not?\n",
        " Tuples cannot be changed while list can be modified\n",
        "\n",
        "7)What’s the difference between `==` and `is`?\n",
        "\n",
        "ans- `==` checks if two things have the same value.\n",
        "     `is` checks if they are the exact same object\n",
        "  \n",
        "\n",
        "8)What are logical operators in Python?\n",
        "ans- ans, or not\n",
        "\n",
        "\n",
        "9) What is type casting in Python?\n",
        "It means changing one type of value into another.\n",
        "\n",
        "\n",
        "10) What’s the difference between implicit and explicit type casting?\n",
        "\n",
        "ans- Implicit happens automatically while converting smaller primitive data type to bigger data type whereas explicitive happens manual while converting bigger data type to smaller data type\n",
        "\n",
        "\n",
        "11) Why do we use conditional statements?\n",
        "\n",
        "They help the program make decisions.\n",
        "Conditional statements, like if, else if, and else, are used in programming to control the flow of execution based on conditions.\n",
        "\n",
        "12)How does `elif` work?\n",
        "\n",
        "If the first condition isn't true, Python checks the next one (and so on) using `elif`.\n",
        "\n",
        "13) What’s the difference between `for` and `while` loops?\n",
        "\n",
        "* Use a `for` loop when you know how many times to run.\n",
        "  Example: Looping through 10 numbers.\n",
        "* Use a `while` loop when you don’t know how long it will take.\n",
        "  Example: Waiting for the user to type \"exit\".\n",
        "\n",
        "14) When is a `while` loop better than a `for` loop?\n",
        "\n",
        "loops are best used when you know the number of iterations ahead of time, whereas a while loop is best used when you don't know the number of iterations in advance\n",
        "\n",
        "\n",
        "Practical questions\n",
        "\n",
        "\n",
        "\n",
        "\n",
        "\n"
      ],
      "metadata": {
        "id": "omshG0e14idN"
      }
    },
    {
      "cell_type": "code",
      "source": [
        "print(\"hello world\")\n"
      ],
      "metadata": {
        "colab": {
          "base_uri": "https://localhost:8080/"
        },
        "id": "Dkdx4sdJ_PcK",
        "outputId": "27ec08ae-f10f-4428-94c7-5356a7917692"
      },
      "execution_count": 1,
      "outputs": [
        {
          "output_type": "stream",
          "name": "stdout",
          "text": [
            "hello world\n"
          ]
        }
      ]
    },
    {
      "cell_type": "code",
      "source": [
        "name = \"Shreya\"\n",
        "age = 25\n",
        "print(\"Name:\", name)\n",
        "print(\"Age:\", age)\n",
        "\n"
      ],
      "metadata": {
        "colab": {
          "base_uri": "https://localhost:8080/"
        },
        "id": "DA6eTxV9_vIQ",
        "outputId": "d0722a47-68ce-493d-f103-456f5f887082"
      },
      "execution_count": 2,
      "outputs": [
        {
          "output_type": "stream",
          "name": "stdout",
          "text": [
            "Name: Shreya\n",
            "Age: 25\n"
          ]
        }
      ]
    },
    {
      "cell_type": "markdown",
      "source": [],
      "metadata": {
        "id": "yI9KGSG9_Q_W"
      }
    },
    {
      "cell_type": "code",
      "source": [
        "import keyword\n",
        "\n",
        "print(\"Python Keywords:\")\n",
        "print(keyword.kwlist)\n"
      ],
      "metadata": {
        "colab": {
          "base_uri": "https://localhost:8080/"
        },
        "id": "Unuh1GRJAAR5",
        "outputId": "5183284d-e046-4f1c-fddf-e9dc85bfc172"
      },
      "execution_count": 3,
      "outputs": [
        {
          "output_type": "stream",
          "name": "stdout",
          "text": [
            "Python Keywords:\n",
            "['False', 'None', 'True', 'and', 'as', 'assert', 'async', 'await', 'break', 'class', 'continue', 'def', 'del', 'elif', 'else', 'except', 'finally', 'for', 'from', 'global', 'if', 'import', 'in', 'is', 'lambda', 'nonlocal', 'not', 'or', 'pass', 'raise', 'return', 'try', 'while', 'with', 'yield']\n"
          ]
        }
      ]
    },
    {
      "cell_type": "code",
      "source": [
        "import keyword\n",
        "\n",
        "word = input(\"Enter a word: \")\n",
        "\n",
        "if keyword.iskeyword(word):\n",
        "    print(f\"'{word}' is a Python keyword.\")\n",
        "else:\n",
        "    print(f\"'{word}' is not a Python keyword.\")\n"
      ],
      "metadata": {
        "colab": {
          "base_uri": "https://localhost:8080/"
        },
        "id": "8Jc_L9uuAIXG",
        "outputId": "77e930ff-28ac-4683-c317-ed19dfd2668e"
      },
      "execution_count": 4,
      "outputs": [
        {
          "output_type": "stream",
          "name": "stdout",
          "text": [
            "Enter a word: if\n",
            "'if' is a Python keyword.\n"
          ]
        }
      ]
    },
    {
      "cell_type": "code",
      "source": [
        "def change_values(a, b):\n",
        "    a = a + 1          # integers are immutable\n",
        "    b.append(100)      # lists are mutable\n",
        "    print(\"Inside function:\")\n",
        "    print(\"a:\", a)\n",
        "    print(\"b:\", b)\n",
        "\n",
        "x = 5\n",
        "y = [1, 2, 3]\n",
        "change_values(x, y)\n",
        "\n",
        "print(\"Outside function:\")\n",
        "print(\"x:\", x)  # unchanged\n",
        "print(\"y:\", y)"
      ],
      "metadata": {
        "colab": {
          "base_uri": "https://localhost:8080/"
        },
        "id": "AQ_nyvZRAVhB",
        "outputId": "ebb81234-8df7-470a-c53d-1b293da7f716"
      },
      "execution_count": 5,
      "outputs": [
        {
          "output_type": "stream",
          "name": "stdout",
          "text": [
            "Inside function:\n",
            "a: 6\n",
            "b: [1, 2, 3, 100]\n",
            "Outside function:\n",
            "x: 5\n",
            "y: [1, 2, 3, 100]\n"
          ]
        }
      ]
    },
    {
      "cell_type": "code",
      "source": [
        "def modify_values(immutable_arg, mutable_arg):\n",
        "    print(\"\\nInside the function:\")\n",
        "\n",
        "    immutable_arg += 10        # This creates a new int object\n",
        "    mutable_arg.append(100)    # This modifies the original list\n",
        "\n",
        "    print(\"Immutable argument (int) inside:\", immutable_arg)\n",
        "    print(\"Mutable argument (list) inside:\", mutable_arg)\n",
        "\n",
        "\n",
        "# Immutable type: int\n",
        "num = 5\n",
        "\n",
        "# Mutable type: list\n",
        "my_list = [1, 2, 3]\n",
        "\n",
        "print(\"Before function call:\")\n",
        "print(\"num:\", num)\n",
        "print(\"my_list:\", my_list)\n",
        "\n",
        "modify_values(num, my_list)\n",
        "\n",
        "print(\"\\nAfter function call:\")\n",
        "print(\"num (unchanged):\", num)         # Stays the same\n",
        "print(\"my_list (changed):\", my_list)   # Changed inside the function\n"
      ],
      "metadata": {
        "colab": {
          "base_uri": "https://localhost:8080/"
        },
        "id": "Gd3CNJwxDSVt",
        "outputId": "4a80a811-6c3e-4fcd-d562-5db285c7ffbd"
      },
      "execution_count": 11,
      "outputs": [
        {
          "output_type": "stream",
          "name": "stdout",
          "text": [
            "Before function call:\n",
            "num: 5\n",
            "my_list: [1, 2, 3]\n",
            "\n",
            "Inside the function:\n",
            "Immutable argument (int) inside: 15\n",
            "Mutable argument (list) inside: [1, 2, 3, 100]\n",
            "\n",
            "After function call:\n",
            "num (unchanged): 5\n",
            "my_list (changed): [1, 2, 3, 100]\n"
          ]
        }
      ]
    },
    {
      "cell_type": "code",
      "source": [
        "num1 = float(input(\"Enter first number: \"))\n",
        "num2 = float(input(\"Enter second number: \"))\n",
        "\n",
        "print(\"Addition:\", num1 + num2)\n",
        "print(\"Subtraction:\", num1 - num2)\n",
        "\n"
      ],
      "metadata": {
        "colab": {
          "base_uri": "https://localhost:8080/"
        },
        "id": "t9qzrwHoEAFi",
        "outputId": "c9e7a0de-4085-4d37-a3aa-fc696f7af3f0"
      },
      "execution_count": 12,
      "outputs": [
        {
          "output_type": "stream",
          "name": "stdout",
          "text": [
            "Enter first number: 10\n",
            "Enter second number: 20\n",
            "Addition: 30.0\n",
            "Subtraction: -10.0\n"
          ]
        }
      ]
    },
    {
      "cell_type": "code",
      "source": [
        "a = 10\n",
        "b = 5\n",
        "\n",
        "print(\"a > b and b < 10:\", a > b and b < 10)\n",
        "print(\"a == b or b == 5:\", a == b or b == 5)\n"
      ],
      "metadata": {
        "colab": {
          "base_uri": "https://localhost:8080/"
        },
        "id": "Edk2LTdbEELG",
        "outputId": "740a55a8-5758-4359-d4d6-1c473884b8b8"
      },
      "execution_count": 13,
      "outputs": [
        {
          "output_type": "stream",
          "name": "stdout",
          "text": [
            "a > b and b < 10: True\n",
            "a == b or b == 5: True\n"
          ]
        }
      ]
    },
    {
      "cell_type": "code",
      "source": [
        "user_input = input(\"Enter something: \")\n",
        "\n",
        "int_val = int(user_input)\n",
        "float_val = float(user_input)\n",
        "bool_val = bool(user_input)\n",
        "\n",
        "print(\"As Integer:\", int_val)\n",
        "print(\"As Float:\", float_val)\n",
        "print(\"As Boolean:\", bool_val)\n"
      ],
      "metadata": {
        "colab": {
          "base_uri": "https://localhost:8080/"
        },
        "id": "g4syIDn4EQek",
        "outputId": "95ef1037-6c42-4d96-cf71-c50f3961e93f"
      },
      "execution_count": 14,
      "outputs": [
        {
          "output_type": "stream",
          "name": "stdout",
          "text": [
            "Enter something: 10\n",
            "As Integer: 10\n",
            "As Float: 10.0\n",
            "As Boolean: True\n"
          ]
        }
      ]
    },
    {
      "cell_type": "code",
      "source": [
        "str_list = [\"1\", \"2\", \"3\", \"4\"]\n",
        "int_list = [int(i) for i in str_list]\n",
        "print(\"Original strings:\", str_list)\n",
        "print(\"After casting to integers:\", int_list)\n"
      ],
      "metadata": {
        "colab": {
          "base_uri": "https://localhost:8080/"
        },
        "id": "ll_zpwLzETUx",
        "outputId": "9d4b49ec-d2bd-4350-8741-b7a7ff88f020"
      },
      "execution_count": 15,
      "outputs": [
        {
          "output_type": "stream",
          "name": "stdout",
          "text": [
            "Original strings: ['1', '2', '3', '4']\n",
            "After casting to integers: [1, 2, 3, 4]\n"
          ]
        }
      ]
    },
    {
      "cell_type": "code",
      "source": [
        "num = float(input(\"Enter a number: \"))\n",
        "\n",
        "if num > 0:\n",
        "    print(\"Positive number\")\n",
        "elif num < 0:\n",
        "    print(\"Negative number\")\n",
        "else:\n",
        "    print(\"Zero\")\n"
      ],
      "metadata": {
        "colab": {
          "base_uri": "https://localhost:8080/"
        },
        "id": "ZlsZoPE5Eena",
        "outputId": "57cfcc0d-815e-4009-a13f-24710337bd54"
      },
      "execution_count": 16,
      "outputs": [
        {
          "output_type": "stream",
          "name": "stdout",
          "text": [
            "Enter a number: 12\n",
            "Positive number\n"
          ]
        }
      ]
    },
    {
      "cell_type": "code",
      "source": [
        "for i in range(1, 11):\n",
        "    print(i)\n",
        "\n"
      ],
      "metadata": {
        "colab": {
          "base_uri": "https://localhost:8080/"
        },
        "id": "QH1nQydrEicv",
        "outputId": "716b5be8-3b3b-49e1-8922-13ce7a2fecbb"
      },
      "execution_count": 17,
      "outputs": [
        {
          "output_type": "stream",
          "name": "stdout",
          "text": [
            "1\n",
            "2\n",
            "3\n",
            "4\n",
            "5\n",
            "6\n",
            "7\n",
            "8\n",
            "9\n",
            "10\n"
          ]
        }
      ]
    },
    {
      "cell_type": "code",
      "source": [
        "total = 0\n",
        "for i in range(2, 51, 2):\n",
        "    total += i\n",
        "print(\"Sum of even numbers from 1 to 50:\", total)\n"
      ],
      "metadata": {
        "colab": {
          "base_uri": "https://localhost:8080/"
        },
        "id": "0Ku_NW-wEmxz",
        "outputId": "56f519a4-72bc-4420-d11f-576830c264a9"
      },
      "execution_count": 18,
      "outputs": [
        {
          "output_type": "stream",
          "name": "stdout",
          "text": [
            "Sum of even numbers from 1 to 50: 650\n"
          ]
        }
      ]
    }
  ]
}